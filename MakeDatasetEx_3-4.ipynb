{
 "cells": [
  {
   "cell_type": "code",
   "execution_count": 1,
   "id": "54b5ad1f-3807-44cb-a2a2-002a46292de4",
   "metadata": {},
   "outputs": [
    {
     "name": "stdout",
     "output_type": "stream",
     "text": [
      "finish!\n"
     ]
    }
   ],
   "source": [
    "import os\n",
    "import shutil\n",
    "\n",
    "current = os.path.abspath('.')\n",
    "\n",
    "dirFPname = \"./FP\"\n",
    "dirFPlist = os.listdir(dirFPname)\n",
    "\n",
    "dirTPname = \"./TP\"\n",
    "dirTPlist = os.listdir(dirTPname)\n",
    "\n",
    "classlist = [\"airplane\",\"automobile\",\"bird\",\"cat\",\"deer\",\"dog\",\"frog\",\"horse\",\"ship\",\"truck\"]\n",
    "\n",
    "#TP5000枚→Ex_3、FP5000枚→Ex_4\n",
    "\n",
    "for cname in classlist:\n",
    "    i = 0\n",
    "    for file in dirFPlist:   \n",
    "        target1 = current + \"/FP/{}\".format(file)\n",
    "        #print(target1)\n",
    "        if (cname in file) and (i < 500):\n",
    "            new_path = shutil.copyfile(target1, \"./Ex_4/{}\".format(file))\n",
    "            #print(str(file) + \" is copied!\\n\")\n",
    "            i += 1\n",
    "        #print(i)\n",
    "\n",
    "for cname in classlist:\n",
    "    i = 0\n",
    "    for file in dirTPlist:\n",
    "        target2 = current + \"/TP/{}\".format(file)\n",
    "        if (cname in file) and (i < 500):\n",
    "            new_path = shutil.copyfile(target2, \"./Ex_3/{}\".format(file))\n",
    "            #print(str(file) + \" is copied!\\n\")\n",
    "            i += 1\n",
    "\n",
    "        \n",
    "print(\"finish!\")\n",
    "\n"
   ]
  },
  {
   "cell_type": "code",
   "execution_count": 2,
   "id": "d55caacf-5a96-487a-bf2f-61e0c6228eb4",
   "metadata": {},
   "outputs": [
    {
     "data": {
      "text/plain": [
       "'generated_bird1622.png'"
      ]
     },
     "execution_count": 2,
     "metadata": {},
     "output_type": "execute_result"
    }
   ],
   "source": [
    "dirTPlist[0]"
   ]
  },
  {
   "cell_type": "code",
   "execution_count": 3,
   "id": "65de66f1-fc38-4ffc-b2e7-271469a7bd69",
   "metadata": {},
   "outputs": [],
   "source": [
    "dirlist3 = os.listdir(\"./Ex_3\")\n",
    "dirlist4 = os.listdir(\"./Ex_4\")"
   ]
  },
  {
   "cell_type": "code",
   "execution_count": 4,
   "id": "c256262e-0ba2-431e-a19b-20522ef08fd0",
   "metadata": {},
   "outputs": [
    {
     "data": {
      "text/plain": [
       "10000"
      ]
     },
     "execution_count": 4,
     "metadata": {},
     "output_type": "execute_result"
    }
   ],
   "source": [
    "len(dirlist3)\n",
    "len(dirlist4)"
   ]
  },
  {
   "cell_type": "code",
   "execution_count": 6,
   "id": "74c559da-4fa7-4c43-a8d4-6f3575ddaed2",
   "metadata": {},
   "outputs": [
    {
     "name": "stdout",
     "output_type": "stream",
     "text": [
      "0     1000\n",
      "1     1000\n",
      "2     1000\n",
      "3     1000\n",
      "4     1000\n",
      "5     1000\n",
      "6     1000\n",
      "7     1000\n",
      "8     1000\n",
      "9     1000\n",
      "10       0\n",
      "dtype: int64\n",
      "0     1000\n",
      "1     1000\n",
      "2     1000\n",
      "3     1000\n",
      "4     1000\n",
      "5     1000\n",
      "6     1000\n",
      "7     1000\n",
      "8     1000\n",
      "9     1000\n",
      "10       0\n",
      "dtype: int64\n"
     ]
    }
   ],
   "source": [
    "import pandas as pd\n",
    "def classcount(filename):\n",
    "    count = [0,0,0,0,0,0,0,0,0,0,0]\n",
    "    \n",
    "    for name in filename:\n",
    "        if \"airplane\" in name:\n",
    "            count[0] += 1\n",
    "        elif \"automobile\" in name:\n",
    "            count[1] += 1\n",
    "        elif \"bird\" in name:\n",
    "            count[2] += 1\n",
    "        elif \"cat\" in name:\n",
    "            count[3] += 1\n",
    "        elif \"deer\" in name:\n",
    "            count[4] += 1\n",
    "        elif \"dog\" in name:\n",
    "            count[5] += 1\n",
    "        elif \"frog\" in name:\n",
    "            count[6] += 1\n",
    "        elif \"horse\" in name:\n",
    "            count[7] += 1\n",
    "        elif \"ship\" in name:\n",
    "            count[8] += 1\n",
    "        elif \"truck\" in name:\n",
    "            count[9] += 1\n",
    "        else:\n",
    "            count[10] += 1\n",
    "            print(name)\n",
    "            \n",
    "    s1 = pd.Series(count)\n",
    "    return s1\n",
    "\n",
    "\n",
    "print(classcount(dirlist3))\n",
    "print(classcount(dirlist4))"
   ]
  },
  {
   "cell_type": "code",
   "execution_count": null,
   "id": "f4ac847a-097b-480b-8991-7a55283001f5",
   "metadata": {},
   "outputs": [],
   "source": []
  }
 ],
 "metadata": {
  "kernelspec": {
   "display_name": "Python 3 (ipykernel)",
   "language": "python",
   "name": "python3"
  },
  "language_info": {
   "codemirror_mode": {
    "name": "ipython",
    "version": 3
   },
   "file_extension": ".py",
   "mimetype": "text/x-python",
   "name": "python",
   "nbconvert_exporter": "python",
   "pygments_lexer": "ipython3",
   "version": "3.9.13"
  }
 },
 "nbformat": 4,
 "nbformat_minor": 5
}
